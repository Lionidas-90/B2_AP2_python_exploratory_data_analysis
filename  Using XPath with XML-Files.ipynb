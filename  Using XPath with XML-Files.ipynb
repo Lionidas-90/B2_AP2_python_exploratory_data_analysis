{
 "cells": [
  {
   "cell_type": "code",
   "execution_count": 3,
   "id": "f4a716b9",
   "metadata": {},
   "outputs": [],
   "source": [
    "import pandas as pd\n",
    "import warnings\n",
    "warnings.filterwarnings(\"ignore\")\n",
    "\n",
    "xml_data = \"\"\"\n",
    "<fahrzeugListe>\n",
    "  <fahrzeug id=\"C-001\">\n",
    "    <besitzer>\n",
    "      <adresse>\n",
    "        <strasse>Beispielweg 12</strasse>\n",
    "        <plz>8000</plz>\n",
    "        <ort>Zürich</ort>\n",
    "        <land>CH</land>\n",
    "      </adresse>\n",
    "    </besitzer>\n",
    "  </fahrzeug>\n",
    "  <fahrzeug id=\"C-002\">\n",
    "    <besitzer>\n",
    "      <adresse>\n",
    "        <strasse>Musterstrasse 9</strasse>\n",
    "        <plz>3000</plz>\n",
    "        <ort>Bern</ort>\n",
    "        <land>CH</land>\n",
    "      </adresse>\n",
    "    </besitzer>\n",
    "  </fahrzeug>\n",
    "</fahrzeugListe>\n",
    "\"\"\""
   ]
  },
  {
   "cell_type": "code",
   "execution_count": 4,
   "id": "1d2327c3",
   "metadata": {},
   "outputs": [
    {
     "name": "stdout",
     "output_type": "stream",
     "text": [
      "      id\n",
      "0  C-001\n",
      "1  C-002\n"
     ]
    }
   ],
   "source": [
    "# Attribut <id> korrekt auslesen\n",
    "df = pd.read_xml(xml_data, xpath=\".//fahrzeug\", attrs_only=True)\n",
    "print(df)"
   ]
  },
  {
   "cell_type": "code",
   "execution_count": 5,
   "id": "2a0bdc40",
   "metadata": {},
   "outputs": [
    {
     "name": "stdout",
     "output_type": "stream",
     "text": [
      "           strasse   plz     ort land\n",
      "0   Beispielweg 12  8000  Zürich   CH\n",
      "1  Musterstrasse 9  3000    Bern   CH\n"
     ]
    }
   ],
   "source": [
    "# Element <adresse> korrekt auslesen\n",
    "df = pd.read_xml(xml_data, xpath=\".//fahrzeug/besitzer/adresse\")\n",
    "print(df)"
   ]
  },
  {
   "cell_type": "code",
   "execution_count": 6,
   "id": "40381046",
   "metadata": {},
   "outputs": [],
   "source": [
    "# Element <strasse> auslesen gibt Fehler (keine attributes, keine child elements)\n",
    "# df = pd.read_xml(xml_data, xpath=\".//fahrzeug/besitzer/adresse/strasse\") --> ERROR\n",
    "\n"
   ]
  },
  {
   "cell_type": "code",
   "execution_count": 9,
   "id": "e415f888",
   "metadata": {},
   "outputs": [
    {
     "name": "stdout",
     "output_type": "stream",
     "text": [
      "0     Beispielweg 12\n",
      "1    Musterstrasse 9\n",
      "Name: strasse, dtype: object\n"
     ]
    }
   ],
   "source": [
    "# Element <strasse> korrekt auslesen\n",
    "df = pd.read_xml(xml_data, xpath=\".//fahrzeug/besitzer/adresse\")\n",
    "df = df['strasse']\n",
    "print(df)"
   ]
  }
 ],
 "metadata": {
  "kernelspec": {
   "display_name": "Python 3",
   "language": "python",
   "name": "python3"
  },
  "language_info": {
   "codemirror_mode": {
    "name": "ipython",
    "version": 3
   },
   "file_extension": ".py",
   "mimetype": "text/x-python",
   "name": "python",
   "nbconvert_exporter": "python",
   "pygments_lexer": "ipython3",
   "version": "3.11.14"
  }
 },
 "nbformat": 4,
 "nbformat_minor": 5
}
