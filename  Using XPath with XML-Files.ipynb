{
 "cells": [
  {
   "cell_type": "code",
   "execution_count": 1,
   "id": "f4a716b9",
   "metadata": {},
   "outputs": [],
   "source": [
    "import pandas as pd\n",
    "import warnings\n",
    "warnings.filterwarnings(\"ignore\")\n",
    "\n",
    "xml_data = \"\"\"\n",
    "<fahrzeugListe>\n",
    "  <fahrzeug id=\"C-001\">\n",
    "    <besitzer>\n",
    "      <adresse>\n",
    "        <strasse>Beispielweg 12</strasse>\n",
    "        <plz>8000</plz>\n",
    "        <ort>Zürich</ort>\n",
    "        <land>CH</land>\n",
    "      </adresse>\n",
    "    </besitzer>\n",
    "  </fahrzeug>\n",
    "  <fahrzeug id=\"C-002\">\n",
    "    <besitzer>\n",
    "      <adresse>\n",
    "        <strasse>Musterstrasse 9</strasse>\n",
    "        <plz>3000</plz>\n",
    "        <ort>Bern</ort>\n",
    "        <land>CH</land>\n",
    "      </adresse>\n",
    "    </besitzer>\n",
    "  </fahrzeug>\n",
    "</fahrzeugListe>\n",
    "\"\"\""
   ]
  },
  {
   "cell_type": "code",
   "execution_count": 2,
   "id": "1d2327c3",
   "metadata": {},
   "outputs": [
    {
     "ename": "ImportError",
     "evalue": "lxml not found, please install or use the etree parser.",
     "output_type": "error",
     "traceback": [
      "\u001b[31m---------------------------------------------------------------------------\u001b[39m",
      "\u001b[31mImportError\u001b[39m                               Traceback (most recent call last)",
      "\u001b[36mCell\u001b[39m\u001b[36m \u001b[39m\u001b[32mIn[2]\u001b[39m\u001b[32m, line 2\u001b[39m\n\u001b[32m      1\u001b[39m \u001b[38;5;66;03m# Attribut <id> korrekt auslesen\u001b[39;00m\n\u001b[32m----> \u001b[39m\u001b[32m2\u001b[39m df = \u001b[43mpd\u001b[49m\u001b[43m.\u001b[49m\u001b[43mread_xml\u001b[49m\u001b[43m(\u001b[49m\u001b[43mxml_data\u001b[49m\u001b[43m,\u001b[49m\u001b[43m \u001b[49m\u001b[43mxpath\u001b[49m\u001b[43m=\u001b[49m\u001b[33;43m\"\u001b[39;49m\u001b[33;43m.//fahrzeug\u001b[39;49m\u001b[33;43m\"\u001b[39;49m\u001b[43m,\u001b[49m\u001b[43m \u001b[49m\u001b[43mattrs_only\u001b[49m\u001b[43m=\u001b[49m\u001b[38;5;28;43;01mTrue\u001b[39;49;00m\u001b[43m)\u001b[49m\n\u001b[32m      3\u001b[39m \u001b[38;5;28mprint\u001b[39m(df)\n",
      "\u001b[36mFile \u001b[39m\u001b[32m~/.local/lib/python3.11/site-packages/pandas/io/xml.py:1160\u001b[39m, in \u001b[36mread_xml\u001b[39m\u001b[34m(path_or_buffer, xpath, namespaces, elems_only, attrs_only, names, dtype, converters, parse_dates, encoding, parser, stylesheet, iterparse, compression, storage_options, dtype_backend)\u001b[39m\n\u001b[32m    888\u001b[39m \u001b[38;5;250m\u001b[39m\u001b[33mr\u001b[39m\u001b[33;03m\"\"\"\u001b[39;00m\n\u001b[32m    889\u001b[39m \u001b[33;03mRead XML document into a :class:`~pandas.DataFrame` object.\u001b[39;00m\n\u001b[32m    890\u001b[39m \n\u001b[32m   (...)\u001b[39m\u001b[32m   1156\u001b[39m \u001b[33;03m1      1  <NA>  4.5  False  b 2019-12-31\u001b[39;00m\n\u001b[32m   1157\u001b[39m \u001b[33;03m\"\"\"\u001b[39;00m\n\u001b[32m   1158\u001b[39m check_dtype_backend(dtype_backend)\n\u001b[32m-> \u001b[39m\u001b[32m1160\u001b[39m \u001b[38;5;28;01mreturn\u001b[39;00m \u001b[43m_parse\u001b[49m\u001b[43m(\u001b[49m\n\u001b[32m   1161\u001b[39m \u001b[43m    \u001b[49m\u001b[43mpath_or_buffer\u001b[49m\u001b[43m=\u001b[49m\u001b[43mpath_or_buffer\u001b[49m\u001b[43m,\u001b[49m\n\u001b[32m   1162\u001b[39m \u001b[43m    \u001b[49m\u001b[43mxpath\u001b[49m\u001b[43m=\u001b[49m\u001b[43mxpath\u001b[49m\u001b[43m,\u001b[49m\n\u001b[32m   1163\u001b[39m \u001b[43m    \u001b[49m\u001b[43mnamespaces\u001b[49m\u001b[43m=\u001b[49m\u001b[43mnamespaces\u001b[49m\u001b[43m,\u001b[49m\n\u001b[32m   1164\u001b[39m \u001b[43m    \u001b[49m\u001b[43melems_only\u001b[49m\u001b[43m=\u001b[49m\u001b[43melems_only\u001b[49m\u001b[43m,\u001b[49m\n\u001b[32m   1165\u001b[39m \u001b[43m    \u001b[49m\u001b[43mattrs_only\u001b[49m\u001b[43m=\u001b[49m\u001b[43mattrs_only\u001b[49m\u001b[43m,\u001b[49m\n\u001b[32m   1166\u001b[39m \u001b[43m    \u001b[49m\u001b[43mnames\u001b[49m\u001b[43m=\u001b[49m\u001b[43mnames\u001b[49m\u001b[43m,\u001b[49m\n\u001b[32m   1167\u001b[39m \u001b[43m    \u001b[49m\u001b[43mdtype\u001b[49m\u001b[43m=\u001b[49m\u001b[43mdtype\u001b[49m\u001b[43m,\u001b[49m\n\u001b[32m   1168\u001b[39m \u001b[43m    \u001b[49m\u001b[43mconverters\u001b[49m\u001b[43m=\u001b[49m\u001b[43mconverters\u001b[49m\u001b[43m,\u001b[49m\n\u001b[32m   1169\u001b[39m \u001b[43m    \u001b[49m\u001b[43mparse_dates\u001b[49m\u001b[43m=\u001b[49m\u001b[43mparse_dates\u001b[49m\u001b[43m,\u001b[49m\n\u001b[32m   1170\u001b[39m \u001b[43m    \u001b[49m\u001b[43mencoding\u001b[49m\u001b[43m=\u001b[49m\u001b[43mencoding\u001b[49m\u001b[43m,\u001b[49m\n\u001b[32m   1171\u001b[39m \u001b[43m    \u001b[49m\u001b[43mparser\u001b[49m\u001b[43m=\u001b[49m\u001b[43mparser\u001b[49m\u001b[43m,\u001b[49m\n\u001b[32m   1172\u001b[39m \u001b[43m    \u001b[49m\u001b[43mstylesheet\u001b[49m\u001b[43m=\u001b[49m\u001b[43mstylesheet\u001b[49m\u001b[43m,\u001b[49m\n\u001b[32m   1173\u001b[39m \u001b[43m    \u001b[49m\u001b[43miterparse\u001b[49m\u001b[43m=\u001b[49m\u001b[43miterparse\u001b[49m\u001b[43m,\u001b[49m\n\u001b[32m   1174\u001b[39m \u001b[43m    \u001b[49m\u001b[43mcompression\u001b[49m\u001b[43m=\u001b[49m\u001b[43mcompression\u001b[49m\u001b[43m,\u001b[49m\n\u001b[32m   1175\u001b[39m \u001b[43m    \u001b[49m\u001b[43mstorage_options\u001b[49m\u001b[43m=\u001b[49m\u001b[43mstorage_options\u001b[49m\u001b[43m,\u001b[49m\n\u001b[32m   1176\u001b[39m \u001b[43m    \u001b[49m\u001b[43mdtype_backend\u001b[49m\u001b[43m=\u001b[49m\u001b[43mdtype_backend\u001b[49m\u001b[43m,\u001b[49m\n\u001b[32m   1177\u001b[39m \u001b[43m\u001b[49m\u001b[43m)\u001b[49m\n",
      "\u001b[36mFile \u001b[39m\u001b[32m~/.local/lib/python3.11/site-packages/pandas/io/xml.py:830\u001b[39m, in \u001b[36m_parse\u001b[39m\u001b[34m(path_or_buffer, xpath, namespaces, elems_only, attrs_only, names, dtype, converters, parse_dates, encoding, parser, stylesheet, iterparse, compression, storage_options, dtype_backend, **kwargs)\u001b[39m\n\u001b[32m    813\u001b[39m         p = _LxmlFrameParser(\n\u001b[32m    814\u001b[39m             path_or_buffer,\n\u001b[32m    815\u001b[39m             xpath,\n\u001b[32m   (...)\u001b[39m\u001b[32m    827\u001b[39m             storage_options,\n\u001b[32m    828\u001b[39m         )\n\u001b[32m    829\u001b[39m     \u001b[38;5;28;01melse\u001b[39;00m:\n\u001b[32m--> \u001b[39m\u001b[32m830\u001b[39m         \u001b[38;5;28;01mraise\u001b[39;00m \u001b[38;5;167;01mImportError\u001b[39;00m(\u001b[33m\"\u001b[39m\u001b[33mlxml not found, please install or use the etree parser.\u001b[39m\u001b[33m\"\u001b[39m)\n\u001b[32m    832\u001b[39m \u001b[38;5;28;01melif\u001b[39;00m parser == \u001b[33m\"\u001b[39m\u001b[33metree\u001b[39m\u001b[33m\"\u001b[39m:\n\u001b[32m    833\u001b[39m     p = _EtreeFrameParser(\n\u001b[32m    834\u001b[39m         path_or_buffer,\n\u001b[32m    835\u001b[39m         xpath,\n\u001b[32m   (...)\u001b[39m\u001b[32m    847\u001b[39m         storage_options,\n\u001b[32m    848\u001b[39m     )\n",
      "\u001b[31mImportError\u001b[39m: lxml not found, please install or use the etree parser."
     ]
    }
   ],
   "source": [
    "# Attribut <id> korrekt auslesen\n",
    "df = pd.read_xml(xml_data, xpath=\".//fahrzeug\", attrs_only=True)\n",
    "print(df)"
   ]
  },
  {
   "cell_type": "code",
   "execution_count": null,
   "id": "2a0bdc40",
   "metadata": {},
   "outputs": [],
   "source": [
    "# Element <adresse> korrekt auslesen\n",
    "df = pd.read_xml(xml_data, xpath=\".//fahrzeug/besitzer/adresse\")\n",
    "print(df)"
   ]
  },
  {
   "cell_type": "code",
   "execution_count": null,
   "id": "40381046",
   "metadata": {},
   "outputs": [],
   "source": [
    "# Element <strasse> auslesen gibt Fehler (keine attributes, keine child elements)\n",
    "# df = pd.read_xml(xml_data, xpath=\".//fahrzeug/besitzer/adresse/strasse\") --> ERROR\n",
    "\n"
   ]
  },
  {
   "cell_type": "code",
   "execution_count": null,
   "id": "e415f888",
   "metadata": {},
   "outputs": [],
   "source": [
    "# Element <strasse> korrekt auslesen\n",
    "df = pd.read_xml(xml_data, xpath=\".//fahrzeug/besitzer/adresse\")\n",
    "df = df['strasse']"
   ]
  }
 ],
 "metadata": {
  "kernelspec": {
   "display_name": "Python 3",
   "language": "python",
   "name": "python3"
  },
  "language_info": {
   "codemirror_mode": {
    "name": "ipython",
    "version": 3
   },
   "file_extension": ".py",
   "mimetype": "text/x-python",
   "name": "python",
   "nbconvert_exporter": "python",
   "pygments_lexer": "ipython3",
   "version": "3.11.14"
  }
 },
 "nbformat": 4,
 "nbformat_minor": 5
}
